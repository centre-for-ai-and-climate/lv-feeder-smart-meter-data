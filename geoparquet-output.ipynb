{
 "cells": [
  {
   "cell_type": "code",
   "execution_count": 2,
   "metadata": {},
   "outputs": [
    {
     "name": "stdout",
     "output_type": "stream",
     "text": [
      "<class 'pandas.core.frame.DataFrame'>\n",
      "RangeIndex: 97416304 entries, 0 to 97416303\n",
      "Data columns (total 11 columns):\n",
      " #   Column                           Dtype  \n",
      "---  ------                           -----  \n",
      " 0   dataset_id                       object \n",
      " 1   dno_alias                        object \n",
      " 2   secondary_substation_id          object \n",
      " 3   secondary_substation_name        object \n",
      " 4   lv_feeder_id                     object \n",
      " 5   lv_feeder_name                   object \n",
      " 6   aggregated_device_count_active   int64  \n",
      " 7   total_consumption_active_import  int64  \n",
      " 8   data_collection_log_timestamp    object \n",
      " 9   substation_latitude              float64\n",
      " 10  substation_longitude             float64\n",
      "dtypes: float64(2), int64(2), object(7)\n",
      "memory usage: 8.0+ GB\n"
     ]
    }
   ],
   "source": [
    "import pandas as pd\n",
    "df = pd.read_csv(\n",
    "    \"data/output/2024-02.csv\", \n",
    "    usecols=[\"dataset_id\", \"dno_alias\", \"secondary_substation_id\", \"secondary_substation_name\", \"lv_feeder_id\", \"lv_feeder_name\", \"aggregated_device_count_active\", \"total_consumption_active_import\", \"data_collection_log_timestamp\", \"substation_latitude\", \"substation_longitude\"],\n",
    "    dtype={\"dataset_id\": str, \"dno_alias\": str, \"secondary_substation_id\": str, \"secondary_substation_name\": str, \"lv_feeder_id\": str, \"lv_feeder_name\": str, \"aggregated_device_count_active\": int, \"total_consumption_active_import\": int, \"data_collection_log_timestamp\": str, \"substation_latitude\": float, \"substation_longitude\": float}\n",
    ")\n",
    "df.info()"
   ]
  },
  {
   "cell_type": "code",
   "execution_count": 3,
   "metadata": {},
   "outputs": [],
   "source": [
    "import datetime\n",
    "import geopandas as gpd\n",
    "gdf = gpd.GeoDataFrame(df, geometry=gpd.points_from_xy(df.substation_longitude, df.substation_latitude, crs=\"EPSG:4326\"))\n",
    "del df\n",
    "gdf[\"data_collection_log_timestamp\"] = gdf.data_collection_log_timestamp.map(lambda x: datetime.datetime.fromisoformat(x))"
   ]
  },
  {
   "cell_type": "code",
   "execution_count": 4,
   "metadata": {},
   "outputs": [],
   "source": [
    "gdf[\"secondary_substation_unique_id\"] = gdf[\"secondary_substation_id\"] + \"-\" + gdf[\"secondary_substation_name\"]\n",
    "gdf[\"secondary_substation_unique_id\"] = gdf[\"secondary_substation_unique_id\"].str.rstrip(\"-\")\n",
    "gdf[\"lv_feeder_unique_id\"] = gdf[\"lv_feeder_id\"] + \"-\" + gdf[\"lv_feeder_name\"]\n",
    "gdf[\"lv_feeder_unique_id\"] = gdf[\"lv_feeder_unique_id\"].str.rstrip(\"-\")\n",
    "gdf.drop(columns=[\"secondary_substation_id\", \"secondary_substation_name\", \"lv_feeder_id\", \"lv_feeder_name\", \"substation_longitude\", \"substation_latitude\"], inplace=True)"
   ]
  },
  {
   "cell_type": "code",
   "execution_count": 5,
   "metadata": {},
   "outputs": [
    {
     "name": "stdout",
     "output_type": "stream",
     "text": [
      "<class 'geopandas.geodataframe.GeoDataFrame'>\n",
      "RangeIndex: 97416304 entries, 0 to 97416303\n",
      "Data columns (total 8 columns):\n",
      " #   Column                           Dtype              \n",
      "---  ------                           -----              \n",
      " 0   dataset_id                       object             \n",
      " 1   dno_alias                        object             \n",
      " 2   aggregated_device_count_active   int64              \n",
      " 3   total_consumption_active_import  int64              \n",
      " 4   data_collection_log_timestamp    datetime64[ns, UTC]\n",
      " 5   geometry                         geometry           \n",
      " 6   secondary_substation_unique_id   object             \n",
      " 7   lv_feeder_unique_id              object             \n",
      "dtypes: datetime64[ns, UTC](1), geometry(1), int64(2), object(4)\n",
      "memory usage: 5.8+ GB\n"
     ]
    }
   ],
   "source": [
    "gdf.info()"
   ]
  },
  {
   "cell_type": "code",
   "execution_count": 6,
   "metadata": {},
   "outputs": [],
   "source": [
    "gdf.sort_values(by=[\"data_collection_log_timestamp\", \"dno_alias\", \"secondary_substation_unique_id\", \"lv_feeder_unique_id\"], inplace=True)"
   ]
  },
  {
   "cell_type": "code",
   "execution_count": 7,
   "metadata": {},
   "outputs": [],
   "source": [
    "import pyarrow.parquet as pq\n",
    "sorting_columns = [pq.SortingColumn(4), pq.SortingColumn(1), pq.SortingColumn(6), pq.SortingColumn(7)]\n",
    "gdf.to_parquet(\"output/data/smart-meter.parquet\", compression=\"zstd\", compression_level=22, geometry_encoding=\"geoarrow\", write_covering_bbox=True, index=False, schema_version=\"1.1.0\", sorting_columns=sorting_columns, coerce_timestamps=\"ms\", allow_truncated_timestamps=True, store_decimal_as_integer=True)"
   ]
  }
 ],
 "metadata": {
  "kernelspec": {
   "display_name": ".venv",
   "language": "python",
   "name": "python3"
  },
  "language_info": {
   "codemirror_mode": {
    "name": "ipython",
    "version": 3
   },
   "file_extension": ".py",
   "mimetype": "text/x-python",
   "name": "python",
   "nbconvert_exporter": "python",
   "pygments_lexer": "ipython3",
   "version": "3.12.5"
  }
 },
 "nbformat": 4,
 "nbformat_minor": 2
}
